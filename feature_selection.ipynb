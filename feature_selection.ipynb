{
  "nbformat": 4,
  "nbformat_minor": 0,
  "metadata": {
    "colab": {
      "name": "feature_selection.ipynb",
      "provenance": [],
      "mount_file_id": "1x2Ok0kiYIkrdz7NnChpGxkNzt5wH5yuN",
      "authorship_tag": "ABX9TyNRZ5iAARfZq1nI50xhOfzL",
      "include_colab_link": true
    },
    "kernelspec": {
      "name": "python3",
      "display_name": "Python 3"
    },
    "language_info": {
      "name": "python"
    }
  },
  "cells": [
    {
      "cell_type": "markdown",
      "metadata": {
        "id": "view-in-github",
        "colab_type": "text"
      },
      "source": [
        "<a href=\"https://colab.research.google.com/github/ritikakhandelwal-17/Exploratory_Project-powertheftdetection/blob/main/feature_selection.ipynb\" target=\"_parent\"><img src=\"https://colab.research.google.com/assets/colab-badge.svg\" alt=\"Open In Colab\"/></a>"
      ]
    },
    {
      "cell_type": "code",
      "metadata": {
        "id": "KUKKLc0XUkbh"
      },
      "source": [
        "import numpy as np\n",
        "import pandas as pd\n",
        "import matplotlib.pyplot as plt\n",
        "import seaborn as sns\n",
        "from sklearn.preprocessing import LabelEncoder\n"
      ],
      "execution_count": null,
      "outputs": []
    },
    {
      "cell_type": "code",
      "metadata": {
        "colab": {
          "base_uri": "https://localhost:8080/",
          "height": 419
        },
        "id": "QcXY22wOZa8p",
        "outputId": "75a4cbb1-692e-46f6-9952-ae7e7d458417"
      },
      "source": [
        "daily_data=pd.read_csv(\"/content/drive/MyDrive/daily_dataset.csv.gz\")\n",
        "mean_cons=daily_data.groupby('day')['energy_sum'].mean()\n",
        "mean_cons=pd.DataFrame(mean_cons)\n",
        "mean_cons.reset_index(inplace=True)\n",
        "mean_cons.columns=['date','mean energy']\n",
        "mean_cons['date']= (pd.to_datetime(mean_cons['date']).dt.strftime('%Y/%m/%d'))\n",
        "weather=pd.read_csv('/content/drive/MyDrive/weather_daily_darksky.csv')\n",
        "weather['date']= (pd.to_datetime(weather['time']).dt.strftime('%Y/%m/%d'))\n",
        "ndf=pd.DataFrame(columns=['date','icon','perciptype'])\n",
        "ndf['date']=weather['date']\n",
        "ndf['icon']=weather['icon']\n",
        "ndf['perciptype']=weather['precipType']\n",
        "ndf"
      ],
      "execution_count": null,
      "outputs": [
        {
          "output_type": "execute_result",
          "data": {
            "text/html": [
              "<div>\n",
              "<style scoped>\n",
              "    .dataframe tbody tr th:only-of-type {\n",
              "        vertical-align: middle;\n",
              "    }\n",
              "\n",
              "    .dataframe tbody tr th {\n",
              "        vertical-align: top;\n",
              "    }\n",
              "\n",
              "    .dataframe thead th {\n",
              "        text-align: right;\n",
              "    }\n",
              "</style>\n",
              "<table border=\"1\" class=\"dataframe\">\n",
              "  <thead>\n",
              "    <tr style=\"text-align: right;\">\n",
              "      <th></th>\n",
              "      <th>date</th>\n",
              "      <th>icon</th>\n",
              "      <th>perciptype</th>\n",
              "    </tr>\n",
              "  </thead>\n",
              "  <tbody>\n",
              "    <tr>\n",
              "      <th>0</th>\n",
              "      <td>2011/11/11</td>\n",
              "      <td>fog</td>\n",
              "      <td>rain</td>\n",
              "    </tr>\n",
              "    <tr>\n",
              "      <th>1</th>\n",
              "      <td>2011/12/11</td>\n",
              "      <td>partly-cloudy-day</td>\n",
              "      <td>rain</td>\n",
              "    </tr>\n",
              "    <tr>\n",
              "      <th>2</th>\n",
              "      <td>2011/12/27</td>\n",
              "      <td>partly-cloudy-day</td>\n",
              "      <td>rain</td>\n",
              "    </tr>\n",
              "    <tr>\n",
              "      <th>3</th>\n",
              "      <td>2011/12/02</td>\n",
              "      <td>wind</td>\n",
              "      <td>rain</td>\n",
              "    </tr>\n",
              "    <tr>\n",
              "      <th>4</th>\n",
              "      <td>2011/12/24</td>\n",
              "      <td>partly-cloudy-night</td>\n",
              "      <td>rain</td>\n",
              "    </tr>\n",
              "    <tr>\n",
              "      <th>...</th>\n",
              "      <td>...</td>\n",
              "      <td>...</td>\n",
              "      <td>...</td>\n",
              "    </tr>\n",
              "    <tr>\n",
              "      <th>877</th>\n",
              "      <td>2014/01/26</td>\n",
              "      <td>partly-cloudy-day</td>\n",
              "      <td>rain</td>\n",
              "    </tr>\n",
              "    <tr>\n",
              "      <th>878</th>\n",
              "      <td>2014/02/27</td>\n",
              "      <td>partly-cloudy-day</td>\n",
              "      <td>rain</td>\n",
              "    </tr>\n",
              "    <tr>\n",
              "      <th>879</th>\n",
              "      <td>2014/03/09</td>\n",
              "      <td>partly-cloudy-night</td>\n",
              "      <td>rain</td>\n",
              "    </tr>\n",
              "    <tr>\n",
              "      <th>880</th>\n",
              "      <td>2014/02/12</td>\n",
              "      <td>wind</td>\n",
              "      <td>rain</td>\n",
              "    </tr>\n",
              "    <tr>\n",
              "      <th>881</th>\n",
              "      <td>2014/02/15</td>\n",
              "      <td>wind</td>\n",
              "      <td>rain</td>\n",
              "    </tr>\n",
              "  </tbody>\n",
              "</table>\n",
              "<p>882 rows × 3 columns</p>\n",
              "</div>"
            ],
            "text/plain": [
              "           date                 icon perciptype\n",
              "0    2011/11/11                  fog       rain\n",
              "1    2011/12/11    partly-cloudy-day       rain\n",
              "2    2011/12/27    partly-cloudy-day       rain\n",
              "3    2011/12/02                 wind       rain\n",
              "4    2011/12/24  partly-cloudy-night       rain\n",
              "..          ...                  ...        ...\n",
              "877  2014/01/26    partly-cloudy-day       rain\n",
              "878  2014/02/27    partly-cloudy-day       rain\n",
              "879  2014/03/09  partly-cloudy-night       rain\n",
              "880  2014/02/12                 wind       rain\n",
              "881  2014/02/15                 wind       rain\n",
              "\n",
              "[882 rows x 3 columns]"
            ]
          },
          "metadata": {
            "tags": []
          },
          "execution_count": 2
        }
      ]
    },
    {
      "cell_type": "code",
      "metadata": {
        "colab": {
          "base_uri": "https://localhost:8080/",
          "height": 419
        },
        "id": "WjO1EZKWWEsA",
        "outputId": "613ba061-6ec7-4123-f8df-4c18a89bdb6c"
      },
      "source": [
        "mean_cons"
      ],
      "execution_count": null,
      "outputs": [
        {
          "output_type": "execute_result",
          "data": {
            "text/html": [
              "<div>\n",
              "<style scoped>\n",
              "    .dataframe tbody tr th:only-of-type {\n",
              "        vertical-align: middle;\n",
              "    }\n",
              "\n",
              "    .dataframe tbody tr th {\n",
              "        vertical-align: top;\n",
              "    }\n",
              "\n",
              "    .dataframe thead th {\n",
              "        text-align: right;\n",
              "    }\n",
              "</style>\n",
              "<table border=\"1\" class=\"dataframe\">\n",
              "  <thead>\n",
              "    <tr style=\"text-align: right;\">\n",
              "      <th></th>\n",
              "      <th>date</th>\n",
              "      <th>mean energy</th>\n",
              "    </tr>\n",
              "  </thead>\n",
              "  <tbody>\n",
              "    <tr>\n",
              "      <th>0</th>\n",
              "      <td>2011/11/23</td>\n",
              "      <td>6.952692</td>\n",
              "    </tr>\n",
              "    <tr>\n",
              "      <th>1</th>\n",
              "      <td>2011/11/24</td>\n",
              "      <td>8.536480</td>\n",
              "    </tr>\n",
              "    <tr>\n",
              "      <th>2</th>\n",
              "      <td>2011/11/25</td>\n",
              "      <td>9.499781</td>\n",
              "    </tr>\n",
              "    <tr>\n",
              "      <th>3</th>\n",
              "      <td>2011/11/26</td>\n",
              "      <td>10.267707</td>\n",
              "    </tr>\n",
              "    <tr>\n",
              "      <th>4</th>\n",
              "      <td>2011/11/27</td>\n",
              "      <td>10.850805</td>\n",
              "    </tr>\n",
              "    <tr>\n",
              "      <th>...</th>\n",
              "      <td>...</td>\n",
              "      <td>...</td>\n",
              "    </tr>\n",
              "    <tr>\n",
              "      <th>824</th>\n",
              "      <td>2014/02/24</td>\n",
              "      <td>10.411403</td>\n",
              "    </tr>\n",
              "    <tr>\n",
              "      <th>825</th>\n",
              "      <td>2014/02/25</td>\n",
              "      <td>10.294997</td>\n",
              "    </tr>\n",
              "    <tr>\n",
              "      <th>826</th>\n",
              "      <td>2014/02/26</td>\n",
              "      <td>10.202945</td>\n",
              "    </tr>\n",
              "    <tr>\n",
              "      <th>827</th>\n",
              "      <td>2014/02/27</td>\n",
              "      <td>10.356350</td>\n",
              "    </tr>\n",
              "    <tr>\n",
              "      <th>828</th>\n",
              "      <td>2014/02/28</td>\n",
              "      <td>0.208997</td>\n",
              "    </tr>\n",
              "  </tbody>\n",
              "</table>\n",
              "<p>829 rows × 2 columns</p>\n",
              "</div>"
            ],
            "text/plain": [
              "           date  mean energy\n",
              "0    2011/11/23     6.952692\n",
              "1    2011/11/24     8.536480\n",
              "2    2011/11/25     9.499781\n",
              "3    2011/11/26    10.267707\n",
              "4    2011/11/27    10.850805\n",
              "..          ...          ...\n",
              "824  2014/02/24    10.411403\n",
              "825  2014/02/25    10.294997\n",
              "826  2014/02/26    10.202945\n",
              "827  2014/02/27    10.356350\n",
              "828  2014/02/28     0.208997\n",
              "\n",
              "[829 rows x 2 columns]"
            ]
          },
          "metadata": {
            "tags": []
          },
          "execution_count": 3
        }
      ]
    },
    {
      "cell_type": "code",
      "metadata": {
        "colab": {
          "base_uri": "https://localhost:8080/",
          "height": 450
        },
        "id": "Hg9S9Wm2XXIL",
        "outputId": "7f6d13db-2820-4e36-9a05-b0dbbcf8a2ce"
      },
      "source": [
        "mean_cons.set_index('date',inplace=True)\n",
        "ndf.set_index('date',inplace=True)\n",
        "final=mean_cons.merge(ndf,left_index=True,right_index=True)\n",
        "final"
      ],
      "execution_count": null,
      "outputs": [
        {
          "output_type": "execute_result",
          "data": {
            "text/html": [
              "<div>\n",
              "<style scoped>\n",
              "    .dataframe tbody tr th:only-of-type {\n",
              "        vertical-align: middle;\n",
              "    }\n",
              "\n",
              "    .dataframe tbody tr th {\n",
              "        vertical-align: top;\n",
              "    }\n",
              "\n",
              "    .dataframe thead th {\n",
              "        text-align: right;\n",
              "    }\n",
              "</style>\n",
              "<table border=\"1\" class=\"dataframe\">\n",
              "  <thead>\n",
              "    <tr style=\"text-align: right;\">\n",
              "      <th></th>\n",
              "      <th>mean energy</th>\n",
              "      <th>icon</th>\n",
              "      <th>perciptype</th>\n",
              "    </tr>\n",
              "    <tr>\n",
              "      <th>date</th>\n",
              "      <th></th>\n",
              "      <th></th>\n",
              "      <th></th>\n",
              "    </tr>\n",
              "  </thead>\n",
              "  <tbody>\n",
              "    <tr>\n",
              "      <th>2011/11/23</th>\n",
              "      <td>6.952692</td>\n",
              "      <td>fog</td>\n",
              "      <td>rain</td>\n",
              "    </tr>\n",
              "    <tr>\n",
              "      <th>2011/11/24</th>\n",
              "      <td>8.536480</td>\n",
              "      <td>partly-cloudy-night</td>\n",
              "      <td>rain</td>\n",
              "    </tr>\n",
              "    <tr>\n",
              "      <th>2011/11/25</th>\n",
              "      <td>9.499781</td>\n",
              "      <td>partly-cloudy-day</td>\n",
              "      <td>rain</td>\n",
              "    </tr>\n",
              "    <tr>\n",
              "      <th>2011/11/26</th>\n",
              "      <td>10.267707</td>\n",
              "      <td>wind</td>\n",
              "      <td>rain</td>\n",
              "    </tr>\n",
              "    <tr>\n",
              "      <th>2011/11/27</th>\n",
              "      <td>10.850805</td>\n",
              "      <td>wind</td>\n",
              "      <td>rain</td>\n",
              "    </tr>\n",
              "    <tr>\n",
              "      <th>...</th>\n",
              "      <td>...</td>\n",
              "      <td>...</td>\n",
              "      <td>...</td>\n",
              "    </tr>\n",
              "    <tr>\n",
              "      <th>2014/02/24</th>\n",
              "      <td>10.411403</td>\n",
              "      <td>wind</td>\n",
              "      <td>rain</td>\n",
              "    </tr>\n",
              "    <tr>\n",
              "      <th>2014/02/25</th>\n",
              "      <td>10.294997</td>\n",
              "      <td>partly-cloudy-day</td>\n",
              "      <td>rain</td>\n",
              "    </tr>\n",
              "    <tr>\n",
              "      <th>2014/02/26</th>\n",
              "      <td>10.202945</td>\n",
              "      <td>partly-cloudy-day</td>\n",
              "      <td>rain</td>\n",
              "    </tr>\n",
              "    <tr>\n",
              "      <th>2014/02/27</th>\n",
              "      <td>10.356350</td>\n",
              "      <td>partly-cloudy-day</td>\n",
              "      <td>rain</td>\n",
              "    </tr>\n",
              "    <tr>\n",
              "      <th>2014/02/28</th>\n",
              "      <td>0.208997</td>\n",
              "      <td>partly-cloudy-day</td>\n",
              "      <td>rain</td>\n",
              "    </tr>\n",
              "  </tbody>\n",
              "</table>\n",
              "<p>829 rows × 3 columns</p>\n",
              "</div>"
            ],
            "text/plain": [
              "            mean energy                 icon perciptype\n",
              "date                                                   \n",
              "2011/11/23     6.952692                  fog       rain\n",
              "2011/11/24     8.536480  partly-cloudy-night       rain\n",
              "2011/11/25     9.499781    partly-cloudy-day       rain\n",
              "2011/11/26    10.267707                 wind       rain\n",
              "2011/11/27    10.850805                 wind       rain\n",
              "...                 ...                  ...        ...\n",
              "2014/02/24    10.411403                 wind       rain\n",
              "2014/02/25    10.294997    partly-cloudy-day       rain\n",
              "2014/02/26    10.202945    partly-cloudy-day       rain\n",
              "2014/02/27    10.356350    partly-cloudy-day       rain\n",
              "2014/02/28     0.208997    partly-cloudy-day       rain\n",
              "\n",
              "[829 rows x 3 columns]"
            ]
          },
          "metadata": {
            "tags": []
          },
          "execution_count": 4
        }
      ]
    },
    {
      "cell_type": "code",
      "metadata": {
        "id": "sPA9yKvpcss3"
      },
      "source": [
        "final.reset_index(inplace=True)"
      ],
      "execution_count": null,
      "outputs": []
    },
    {
      "cell_type": "code",
      "metadata": {
        "colab": {
          "base_uri": "https://localhost:8080/",
          "height": 419
        },
        "id": "-ROBrO6oXx_O",
        "outputId": "640d1094-9c51-47db-fb93-5fecc5c8be5f"
      },
      "source": [
        "#month and day\n",
        "final['date']= pd.to_datetime(final['date'])\n",
        "final[\"day_name\"] = final[\"date\"].apply(lambda x : x.day_name())\n",
        "final['month']= (final['date'].dt.strftime('%m'))\n",
        "final"
      ],
      "execution_count": null,
      "outputs": [
        {
          "output_type": "execute_result",
          "data": {
            "text/html": [
              "<div>\n",
              "<style scoped>\n",
              "    .dataframe tbody tr th:only-of-type {\n",
              "        vertical-align: middle;\n",
              "    }\n",
              "\n",
              "    .dataframe tbody tr th {\n",
              "        vertical-align: top;\n",
              "    }\n",
              "\n",
              "    .dataframe thead th {\n",
              "        text-align: right;\n",
              "    }\n",
              "</style>\n",
              "<table border=\"1\" class=\"dataframe\">\n",
              "  <thead>\n",
              "    <tr style=\"text-align: right;\">\n",
              "      <th></th>\n",
              "      <th>date</th>\n",
              "      <th>mean energy</th>\n",
              "      <th>icon</th>\n",
              "      <th>perciptype</th>\n",
              "      <th>day_name</th>\n",
              "      <th>month</th>\n",
              "    </tr>\n",
              "  </thead>\n",
              "  <tbody>\n",
              "    <tr>\n",
              "      <th>0</th>\n",
              "      <td>2011-11-23</td>\n",
              "      <td>6.952692</td>\n",
              "      <td>fog</td>\n",
              "      <td>rain</td>\n",
              "      <td>Wednesday</td>\n",
              "      <td>11</td>\n",
              "    </tr>\n",
              "    <tr>\n",
              "      <th>1</th>\n",
              "      <td>2011-11-24</td>\n",
              "      <td>8.536480</td>\n",
              "      <td>partly-cloudy-night</td>\n",
              "      <td>rain</td>\n",
              "      <td>Thursday</td>\n",
              "      <td>11</td>\n",
              "    </tr>\n",
              "    <tr>\n",
              "      <th>2</th>\n",
              "      <td>2011-11-25</td>\n",
              "      <td>9.499781</td>\n",
              "      <td>partly-cloudy-day</td>\n",
              "      <td>rain</td>\n",
              "      <td>Friday</td>\n",
              "      <td>11</td>\n",
              "    </tr>\n",
              "    <tr>\n",
              "      <th>3</th>\n",
              "      <td>2011-11-26</td>\n",
              "      <td>10.267707</td>\n",
              "      <td>wind</td>\n",
              "      <td>rain</td>\n",
              "      <td>Saturday</td>\n",
              "      <td>11</td>\n",
              "    </tr>\n",
              "    <tr>\n",
              "      <th>4</th>\n",
              "      <td>2011-11-27</td>\n",
              "      <td>10.850805</td>\n",
              "      <td>wind</td>\n",
              "      <td>rain</td>\n",
              "      <td>Sunday</td>\n",
              "      <td>11</td>\n",
              "    </tr>\n",
              "    <tr>\n",
              "      <th>...</th>\n",
              "      <td>...</td>\n",
              "      <td>...</td>\n",
              "      <td>...</td>\n",
              "      <td>...</td>\n",
              "      <td>...</td>\n",
              "      <td>...</td>\n",
              "    </tr>\n",
              "    <tr>\n",
              "      <th>824</th>\n",
              "      <td>2014-02-24</td>\n",
              "      <td>10.411403</td>\n",
              "      <td>wind</td>\n",
              "      <td>rain</td>\n",
              "      <td>Monday</td>\n",
              "      <td>02</td>\n",
              "    </tr>\n",
              "    <tr>\n",
              "      <th>825</th>\n",
              "      <td>2014-02-25</td>\n",
              "      <td>10.294997</td>\n",
              "      <td>partly-cloudy-day</td>\n",
              "      <td>rain</td>\n",
              "      <td>Tuesday</td>\n",
              "      <td>02</td>\n",
              "    </tr>\n",
              "    <tr>\n",
              "      <th>826</th>\n",
              "      <td>2014-02-26</td>\n",
              "      <td>10.202945</td>\n",
              "      <td>partly-cloudy-day</td>\n",
              "      <td>rain</td>\n",
              "      <td>Wednesday</td>\n",
              "      <td>02</td>\n",
              "    </tr>\n",
              "    <tr>\n",
              "      <th>827</th>\n",
              "      <td>2014-02-27</td>\n",
              "      <td>10.356350</td>\n",
              "      <td>partly-cloudy-day</td>\n",
              "      <td>rain</td>\n",
              "      <td>Thursday</td>\n",
              "      <td>02</td>\n",
              "    </tr>\n",
              "    <tr>\n",
              "      <th>828</th>\n",
              "      <td>2014-02-28</td>\n",
              "      <td>0.208997</td>\n",
              "      <td>partly-cloudy-day</td>\n",
              "      <td>rain</td>\n",
              "      <td>Friday</td>\n",
              "      <td>02</td>\n",
              "    </tr>\n",
              "  </tbody>\n",
              "</table>\n",
              "<p>829 rows × 6 columns</p>\n",
              "</div>"
            ],
            "text/plain": [
              "          date  mean energy                 icon perciptype   day_name month\n",
              "0   2011-11-23     6.952692                  fog       rain  Wednesday    11\n",
              "1   2011-11-24     8.536480  partly-cloudy-night       rain   Thursday    11\n",
              "2   2011-11-25     9.499781    partly-cloudy-day       rain     Friday    11\n",
              "3   2011-11-26    10.267707                 wind       rain   Saturday    11\n",
              "4   2011-11-27    10.850805                 wind       rain     Sunday    11\n",
              "..         ...          ...                  ...        ...        ...   ...\n",
              "824 2014-02-24    10.411403                 wind       rain     Monday    02\n",
              "825 2014-02-25    10.294997    partly-cloudy-day       rain    Tuesday    02\n",
              "826 2014-02-26    10.202945    partly-cloudy-day       rain  Wednesday    02\n",
              "827 2014-02-27    10.356350    partly-cloudy-day       rain   Thursday    02\n",
              "828 2014-02-28     0.208997    partly-cloudy-day       rain     Friday    02\n",
              "\n",
              "[829 rows x 6 columns]"
            ]
          },
          "metadata": {
            "tags": []
          },
          "execution_count": 6
        }
      ]
    },
    {
      "cell_type": "code",
      "metadata": {
        "id": "62v8MCKcdLQP"
      },
      "source": [
        "#holiday\n",
        "holiday=pd.read_csv('/content/drive/MyDrive/uk_bank_holidays.csv')\n",
        "holiday['date']= (pd.to_datetime(holiday['Bank holidays']).dt.strftime('%Y/%m/%d'))\n"
      ],
      "execution_count": null,
      "outputs": []
    },
    {
      "cell_type": "code",
      "metadata": {
        "colab": {
          "base_uri": "https://localhost:8080/"
        },
        "id": "pqc4UnLge3p_",
        "outputId": "e93fa30a-a137-484d-a5e4-f6e5c35f304c"
      },
      "source": [
        "final['date']= pd.to_datetime(final['date']).dt.strftime('%Y/%m/%d')\n",
        "\n",
        "final['holiday']=0\n",
        "temp=list(holiday['date'])\n",
        "for i in range (0,829):\n",
        "  \n",
        "  if (final['date'][i] in temp)==True:\n",
        "   \n",
        "    final['holiday'][i]=1\n",
        "\n"
      ],
      "execution_count": null,
      "outputs": [
        {
          "output_type": "stream",
          "text": [
            "/usr/local/lib/python3.7/dist-packages/ipykernel_launcher.py:9: SettingWithCopyWarning: \n",
            "A value is trying to be set on a copy of a slice from a DataFrame\n",
            "\n",
            "See the caveats in the documentation: https://pandas.pydata.org/pandas-docs/stable/user_guide/indexing.html#returning-a-view-versus-a-copy\n",
            "  if __name__ == '__main__':\n"
          ],
          "name": "stderr"
        }
      ]
    },
    {
      "cell_type": "code",
      "metadata": {
        "colab": {
          "base_uri": "https://localhost:8080/"
        },
        "id": "jpWqQ-o_fwiE",
        "outputId": "dbfc3a12-fb03-4b4d-9547-61682a1c2303"
      },
      "source": [
        "final.holiday.value_counts()"
      ],
      "execution_count": null,
      "outputs": [
        {
          "output_type": "execute_result",
          "data": {
            "text/plain": [
              "0    811\n",
              "1     18\n",
              "Name: holiday, dtype: int64"
            ]
          },
          "metadata": {
            "tags": []
          },
          "execution_count": 9
        }
      ]
    },
    {
      "cell_type": "code",
      "metadata": {
        "colab": {
          "base_uri": "https://localhost:8080/",
          "height": 297
        },
        "id": "q0_Qr4D_hOVM",
        "outputId": "ec98d3b3-58a9-4c5d-a05b-dd5b4aa90ecb"
      },
      "source": [
        "final.groupby(\"day_name\").mean()[\"mean energy\"].plot()"
      ],
      "execution_count": null,
      "outputs": [
        {
          "output_type": "execute_result",
          "data": {
            "text/plain": [
              "<matplotlib.axes._subplots.AxesSubplot at 0x7fd67a651110>"
            ]
          },
          "metadata": {
            "tags": []
          },
          "execution_count": 13
        },
        {
          "output_type": "display_data",
          "data": {
            "image/png": "[encoded data removed]",
            "text/plain": [
              "<Figure size 432x288 with 1 Axes>"
            ]
          },
          "metadata": {
            "tags": [],
            "needs_background": "light"
          }
        }
      ]
    },
    {
      "cell_type": "code",
      "metadata": {
        "colab": {
          "base_uri": "https://localhost:8080/",
          "height": 381
        },
        "id": "tF2gyspxpgNK",
        "outputId": "2f5f0099-c838-4641-ef5c-b53b92279304"
      },
      "source": [
        "final.groupby(\"icon\").mean()[\"mean energy\"].plot.bar()"
      ],
      "execution_count": null,
      "outputs": [
        {
          "output_type": "execute_result",
          "data": {
            "text/plain": [
              "<matplotlib.axes._subplots.AxesSubplot at 0x7f9112632fd0>"
            ]
          },
          "metadata": {
            "tags": []
          },
          "execution_count": 19
        },
        {
          "output_type": "display_data",
          "data": {
            "image/png": "[encoded data removed]",
            "text/plain": [
              "<Figure size 432x288 with 1 Axes>"
            ]
          },
          "metadata": {
            "tags": [],
            "needs_background": "light"
          }
        }
      ]
    },
    {
      "cell_type": "code",
      "metadata": {
        "colab": {
          "base_uri": "https://localhost:8080/"
        },
        "id": "Y8dnT6KHp8o8",
        "outputId": "e67fb966-835f-48f1-8a2a-09dcaf779c43"
      },
      "source": [
        "for i in range (0,829):\n",
        "  d= (final['icon'][i])\n",
        "  if d=='clear-day' or d=='cloudy' :\n",
        "    final['icon'][i]='wind'"
      ],
      "execution_count": null,
      "outputs": [
        {
          "output_type": "stream",
          "text": [
            "/usr/local/lib/python3.7/dist-packages/ipykernel_launcher.py:4: SettingWithCopyWarning: \n",
            "A value is trying to be set on a copy of a slice from a DataFrame\n",
            "\n",
            "See the caveats in the documentation: https://pandas.pydata.org/pandas-docs/stable/user_guide/indexing.html#returning-a-view-versus-a-copy\n",
            "  after removing the cwd from sys.path.\n"
          ],
          "name": "stderr"
        }
      ]
    },
    {
      "cell_type": "code",
      "metadata": {
        "colab": {
          "base_uri": "https://localhost:8080/"
        },
        "id": "gl9SeXa9jaKD",
        "outputId": "40860169-489f-4b03-fb09-b670051a7440"
      },
      "source": [
        "#holiday+sunday\n",
        "final['hol+sun']=0\n",
        "for i in range (0,829):\n",
        "  d= pd.to_datetime(final['date'][i])\n",
        "  if ((final['date'][i] in temp)==True) or d.day_name()=='Sunday' :\n",
        "    final['hol+sun'][i]=1"
      ],
      "execution_count": null,
      "outputs": [
        {
          "output_type": "stream",
          "text": [
            "/usr/local/lib/python3.7/dist-packages/ipykernel_launcher.py:6: SettingWithCopyWarning: \n",
            "A value is trying to be set on a copy of a slice from a DataFrame\n",
            "\n",
            "See the caveats in the documentation: https://pandas.pydata.org/pandas-docs/stable/user_guide/indexing.html#returning-a-view-versus-a-copy\n",
            "  \n"
          ],
          "name": "stderr"
        }
      ]
    },
    {
      "cell_type": "code",
      "metadata": {
        "colab": {
          "base_uri": "https://localhost:8080/",
          "height": 419
        },
        "id": "c35hF1aWkDGz",
        "outputId": "d5342b15-f917-409e-9aaa-8dcd7dbb6dc3"
      },
      "source": [
        "final"
      ],
      "execution_count": null,
      "outputs": [
        {
          "output_type": "execute_result",
          "data": {
            "text/html": [
              "<div>\n",
              "<style scoped>\n",
              "    .dataframe tbody tr th:only-of-type {\n",
              "        vertical-align: middle;\n",
              "    }\n",
              "\n",
              "    .dataframe tbody tr th {\n",
              "        vertical-align: top;\n",
              "    }\n",
              "\n",
              "    .dataframe thead th {\n",
              "        text-align: right;\n",
              "    }\n",
              "</style>\n",
              "<table border=\"1\" class=\"dataframe\">\n",
              "  <thead>\n",
              "    <tr style=\"text-align: right;\">\n",
              "      <th></th>\n",
              "      <th>date</th>\n",
              "      <th>mean energy</th>\n",
              "      <th>icon</th>\n",
              "      <th>perciptype</th>\n",
              "      <th>day_name</th>\n",
              "      <th>month</th>\n",
              "      <th>holiday</th>\n",
              "      <th>hol+sun</th>\n",
              "      <th>season</th>\n",
              "      <th>sun</th>\n",
              "    </tr>\n",
              "  </thead>\n",
              "  <tbody>\n",
              "    <tr>\n",
              "      <th>0</th>\n",
              "      <td>2011/11/23</td>\n",
              "      <td>6.952692</td>\n",
              "      <td>fog</td>\n",
              "      <td>rain</td>\n",
              "      <td>Wednesday</td>\n",
              "      <td>11</td>\n",
              "      <td>0</td>\n",
              "      <td>0</td>\n",
              "      <td>autumn</td>\n",
              "      <td>0</td>\n",
              "    </tr>\n",
              "    <tr>\n",
              "      <th>1</th>\n",
              "      <td>2011/11/24</td>\n",
              "      <td>8.536480</td>\n",
              "      <td>partly-cloudy-night</td>\n",
              "      <td>rain</td>\n",
              "      <td>Thursday</td>\n",
              "      <td>11</td>\n",
              "      <td>0</td>\n",
              "      <td>0</td>\n",
              "      <td>autumn</td>\n",
              "      <td>0</td>\n",
              "    </tr>\n",
              "    <tr>\n",
              "      <th>2</th>\n",
              "      <td>2011/11/25</td>\n",
              "      <td>9.499781</td>\n",
              "      <td>partly-cloudy-day</td>\n",
              "      <td>rain</td>\n",
              "      <td>Friday</td>\n",
              "      <td>11</td>\n",
              "      <td>0</td>\n",
              "      <td>0</td>\n",
              "      <td>autumn</td>\n",
              "      <td>0</td>\n",
              "    </tr>\n",
              "    <tr>\n",
              "      <th>3</th>\n",
              "      <td>2011/11/26</td>\n",
              "      <td>10.267707</td>\n",
              "      <td>wind</td>\n",
              "      <td>rain</td>\n",
              "      <td>Saturday</td>\n",
              "      <td>11</td>\n",
              "      <td>0</td>\n",
              "      <td>0</td>\n",
              "      <td>autumn</td>\n",
              "      <td>0</td>\n",
              "    </tr>\n",
              "    <tr>\n",
              "      <th>4</th>\n",
              "      <td>2011/11/27</td>\n",
              "      <td>10.850805</td>\n",
              "      <td>wind</td>\n",
              "      <td>rain</td>\n",
              "      <td>Sunday</td>\n",
              "      <td>11</td>\n",
              "      <td>0</td>\n",
              "      <td>1</td>\n",
              "      <td>autumn</td>\n",
              "      <td>1</td>\n",
              "    </tr>\n",
              "    <tr>\n",
              "      <th>...</th>\n",
              "      <td>...</td>\n",
              "      <td>...</td>\n",
              "      <td>...</td>\n",
              "      <td>...</td>\n",
              "      <td>...</td>\n",
              "      <td>...</td>\n",
              "      <td>...</td>\n",
              "      <td>...</td>\n",
              "      <td>...</td>\n",
              "      <td>...</td>\n",
              "    </tr>\n",
              "    <tr>\n",
              "      <th>824</th>\n",
              "      <td>2014/02/24</td>\n",
              "      <td>10.411403</td>\n",
              "      <td>wind</td>\n",
              "      <td>rain</td>\n",
              "      <td>Monday</td>\n",
              "      <td>02</td>\n",
              "      <td>0</td>\n",
              "      <td>0</td>\n",
              "      <td>winter</td>\n",
              "      <td>0</td>\n",
              "    </tr>\n",
              "    <tr>\n",
              "      <th>825</th>\n",
              "      <td>2014/02/25</td>\n",
              "      <td>10.294997</td>\n",
              "      <td>partly-cloudy-day</td>\n",
              "      <td>rain</td>\n",
              "      <td>Tuesday</td>\n",
              "      <td>02</td>\n",
              "      <td>0</td>\n",
              "      <td>0</td>\n",
              "      <td>winter</td>\n",
              "      <td>0</td>\n",
              "    </tr>\n",
              "    <tr>\n",
              "      <th>826</th>\n",
              "      <td>2014/02/26</td>\n",
              "      <td>10.202945</td>\n",
              "      <td>partly-cloudy-day</td>\n",
              "      <td>rain</td>\n",
              "      <td>Wednesday</td>\n",
              "      <td>02</td>\n",
              "      <td>0</td>\n",
              "      <td>0</td>\n",
              "      <td>winter</td>\n",
              "      <td>0</td>\n",
              "    </tr>\n",
              "    <tr>\n",
              "      <th>827</th>\n",
              "      <td>2014/02/27</td>\n",
              "      <td>10.356350</td>\n",
              "      <td>partly-cloudy-day</td>\n",
              "      <td>rain</td>\n",
              "      <td>Thursday</td>\n",
              "      <td>02</td>\n",
              "      <td>0</td>\n",
              "      <td>0</td>\n",
              "      <td>winter</td>\n",
              "      <td>0</td>\n",
              "    </tr>\n",
              "    <tr>\n",
              "      <th>828</th>\n",
              "      <td>2014/02/28</td>\n",
              "      <td>0.208997</td>\n",
              "      <td>partly-cloudy-day</td>\n",
              "      <td>rain</td>\n",
              "      <td>Friday</td>\n",
              "      <td>02</td>\n",
              "      <td>0</td>\n",
              "      <td>0</td>\n",
              "      <td>winter</td>\n",
              "      <td>0</td>\n",
              "    </tr>\n",
              "  </tbody>\n",
              "</table>\n",
              "<p>829 rows × 10 columns</p>\n",
              "</div>"
            ],
            "text/plain": [
              "           date  mean energy                 icon  ... hol+sun  season sun\n",
              "0    2011/11/23     6.952692                  fog  ...       0  autumn   0\n",
              "1    2011/11/24     8.536480  partly-cloudy-night  ...       0  autumn   0\n",
              "2    2011/11/25     9.499781    partly-cloudy-day  ...       0  autumn   0\n",
              "3    2011/11/26    10.267707                 wind  ...       0  autumn   0\n",
              "4    2011/11/27    10.850805                 wind  ...       1  autumn   1\n",
              "..          ...          ...                  ...  ...     ...     ...  ..\n",
              "824  2014/02/24    10.411403                 wind  ...       0  winter   0\n",
              "825  2014/02/25    10.294997    partly-cloudy-day  ...       0  winter   0\n",
              "826  2014/02/26    10.202945    partly-cloudy-day  ...       0  winter   0\n",
              "827  2014/02/27    10.356350    partly-cloudy-day  ...       0  winter   0\n",
              "828  2014/02/28     0.208997    partly-cloudy-day  ...       0  winter   0\n",
              "\n",
              "[829 rows x 10 columns]"
            ]
          },
          "metadata": {
            "tags": []
          },
          "execution_count": 25
        }
      ]
    },
    {
      "cell_type": "code",
      "metadata": {
        "colab": {
          "base_uri": "https://localhost:8080/"
        },
        "id": "3bowK2m6kJN7",
        "outputId": "b82d153f-164c-462a-8459-de2c68aef070"
      },
      "source": [
        "final.groupby(\"season\").mean()[\"mean energy\"].plot()\n"
      ],
      "execution_count": null,
      "outputs": [
        {
          "output_type": "execute_result",
          "data": {
            "text/plain": [
              "<matplotlib.axes._subplots.AxesSubplot at 0x7fd679cbf890>"
            ]
          },
          "metadata": {
            "tags": []
          },
          "execution_count": 22
        },
        {
          "output_type": "display_data",
          "data": {
            "image/png": "[encoded data removed]",
            "text/plain": [
              "<Figure size 432x288 with 1 Axes>"
            ]
          },
          "metadata": {
            "tags": [],
            "needs_background": "light"
          }
        }
      ]
    },
    {
      "cell_type": "code",
      "metadata": {
        "id": "-gx2AJ9ekKYr"
      },
      "source": [
        "final['month']=final.month.astype('int')"
      ],
      "execution_count": null,
      "outputs": []
    },
    {
      "cell_type": "code",
      "metadata": {
        "colab": {
          "base_uri": "https://localhost:8080/"
        },
        "id": "rZ65-wGmoE93",
        "outputId": "33e92e95-373e-4a7a-f626-108ad5f38372"
      },
      "source": [
        "final.dtypes"
      ],
      "execution_count": null,
      "outputs": [
        {
          "output_type": "execute_result",
          "data": {
            "text/plain": [
              "date            object\n",
              "mean energy    float64\n",
              "icon            object\n",
              "perciptype      object\n",
              "day_name        object\n",
              "month            int64\n",
              "holiday          int64\n",
              "hol+sun          int64\n",
              "season           int64\n",
              "dtype: object"
            ]
          },
          "metadata": {
            "tags": []
          },
          "execution_count": 26
        }
      ]
    },
    {
      "cell_type": "code",
      "metadata": {
        "id": "cPC4yalLnYfN"
      },
      "source": [
        ""
      ],
      "execution_count": null,
      "outputs": []
    },
    {
      "cell_type": "code",
      "metadata": {
        "colab": {
          "base_uri": "https://localhost:8080/",
          "height": 419
        },
        "id": "EVuKw7TOZdPW",
        "outputId": "045d9d75-2f36-4c0f-f2ae-49b24aaa2606"
      },
      "source": [
        "label_encoder = LabelEncoder()\n",
        "final['icon'] = label_encoder.fit_transform(final['icon'] )\n",
        "final['perciptype'] = label_encoder.fit_transform(final['perciptype'] )\n",
        "final['day_name'] = label_encoder.fit_transform(final['day_name'] )\n",
        "final"
      ],
      "execution_count": null,
      "outputs": [
        {
          "output_type": "execute_result",
          "data": {
            "text/html": [
              "<div>\n",
              "<style scoped>\n",
              "    .dataframe tbody tr th:only-of-type {\n",
              "        vertical-align: middle;\n",
              "    }\n",
              "\n",
              "    .dataframe tbody tr th {\n",
              "        vertical-align: top;\n",
              "    }\n",
              "\n",
              "    .dataframe thead th {\n",
              "        text-align: right;\n",
              "    }\n",
              "</style>\n",
              "<table border=\"1\" class=\"dataframe\">\n",
              "  <thead>\n",
              "    <tr style=\"text-align: right;\">\n",
              "      <th></th>\n",
              "      <th>date</th>\n",
              "      <th>mean energy</th>\n",
              "      <th>icon</th>\n",
              "      <th>perciptype</th>\n",
              "      <th>day_name</th>\n",
              "      <th>month</th>\n",
              "      <th>holiday</th>\n",
              "      <th>hol+sun</th>\n",
              "      <th>season</th>\n",
              "    </tr>\n",
              "  </thead>\n",
              "  <tbody>\n",
              "    <tr>\n",
              "      <th>0</th>\n",
              "      <td>2011/11/23</td>\n",
              "      <td>6.952692</td>\n",
              "      <td>0</td>\n",
              "      <td>0</td>\n",
              "      <td>6</td>\n",
              "      <td>11</td>\n",
              "      <td>0</td>\n",
              "      <td>0</td>\n",
              "      <td>2</td>\n",
              "    </tr>\n",
              "    <tr>\n",
              "      <th>1</th>\n",
              "      <td>2011/11/24</td>\n",
              "      <td>8.536480</td>\n",
              "      <td>2</td>\n",
              "      <td>0</td>\n",
              "      <td>4</td>\n",
              "      <td>11</td>\n",
              "      <td>0</td>\n",
              "      <td>0</td>\n",
              "      <td>2</td>\n",
              "    </tr>\n",
              "    <tr>\n",
              "      <th>2</th>\n",
              "      <td>2011/11/25</td>\n",
              "      <td>9.499781</td>\n",
              "      <td>1</td>\n",
              "      <td>0</td>\n",
              "      <td>0</td>\n",
              "      <td>11</td>\n",
              "      <td>0</td>\n",
              "      <td>0</td>\n",
              "      <td>2</td>\n",
              "    </tr>\n",
              "    <tr>\n",
              "      <th>3</th>\n",
              "      <td>2011/11/26</td>\n",
              "      <td>10.267707</td>\n",
              "      <td>3</td>\n",
              "      <td>0</td>\n",
              "      <td>2</td>\n",
              "      <td>11</td>\n",
              "      <td>0</td>\n",
              "      <td>0</td>\n",
              "      <td>2</td>\n",
              "    </tr>\n",
              "    <tr>\n",
              "      <th>4</th>\n",
              "      <td>2011/11/27</td>\n",
              "      <td>10.850805</td>\n",
              "      <td>3</td>\n",
              "      <td>0</td>\n",
              "      <td>3</td>\n",
              "      <td>11</td>\n",
              "      <td>0</td>\n",
              "      <td>1</td>\n",
              "      <td>2</td>\n",
              "    </tr>\n",
              "    <tr>\n",
              "      <th>...</th>\n",
              "      <td>...</td>\n",
              "      <td>...</td>\n",
              "      <td>...</td>\n",
              "      <td>...</td>\n",
              "      <td>...</td>\n",
              "      <td>...</td>\n",
              "      <td>...</td>\n",
              "      <td>...</td>\n",
              "      <td>...</td>\n",
              "    </tr>\n",
              "    <tr>\n",
              "      <th>824</th>\n",
              "      <td>2014/02/24</td>\n",
              "      <td>10.411403</td>\n",
              "      <td>3</td>\n",
              "      <td>0</td>\n",
              "      <td>1</td>\n",
              "      <td>2</td>\n",
              "      <td>0</td>\n",
              "      <td>0</td>\n",
              "      <td>0</td>\n",
              "    </tr>\n",
              "    <tr>\n",
              "      <th>825</th>\n",
              "      <td>2014/02/25</td>\n",
              "      <td>10.294997</td>\n",
              "      <td>1</td>\n",
              "      <td>0</td>\n",
              "      <td>5</td>\n",
              "      <td>2</td>\n",
              "      <td>0</td>\n",
              "      <td>0</td>\n",
              "      <td>0</td>\n",
              "    </tr>\n",
              "    <tr>\n",
              "      <th>826</th>\n",
              "      <td>2014/02/26</td>\n",
              "      <td>10.202945</td>\n",
              "      <td>1</td>\n",
              "      <td>0</td>\n",
              "      <td>6</td>\n",
              "      <td>2</td>\n",
              "      <td>0</td>\n",
              "      <td>0</td>\n",
              "      <td>0</td>\n",
              "    </tr>\n",
              "    <tr>\n",
              "      <th>827</th>\n",
              "      <td>2014/02/27</td>\n",
              "      <td>10.356350</td>\n",
              "      <td>1</td>\n",
              "      <td>0</td>\n",
              "      <td>4</td>\n",
              "      <td>2</td>\n",
              "      <td>0</td>\n",
              "      <td>0</td>\n",
              "      <td>0</td>\n",
              "    </tr>\n",
              "    <tr>\n",
              "      <th>828</th>\n",
              "      <td>2014/02/28</td>\n",
              "      <td>0.208997</td>\n",
              "      <td>1</td>\n",
              "      <td>0</td>\n",
              "      <td>0</td>\n",
              "      <td>2</td>\n",
              "      <td>0</td>\n",
              "      <td>0</td>\n",
              "      <td>0</td>\n",
              "    </tr>\n",
              "  </tbody>\n",
              "</table>\n",
              "<p>829 rows × 9 columns</p>\n",
              "</div>"
            ],
            "text/plain": [
              "           date  mean energy  icon  perciptype  ...  month  holiday  hol+sun  season\n",
              "0    2011/11/23     6.952692     0           0  ...     11        0        0       2\n",
              "1    2011/11/24     8.536480     2           0  ...     11        0        0       2\n",
              "2    2011/11/25     9.499781     1           0  ...     11        0        0       2\n",
              "3    2011/11/26    10.267707     3           0  ...     11        0        0       2\n",
              "4    2011/11/27    10.850805     3           0  ...     11        0        1       2\n",
              "..          ...          ...   ...         ...  ...    ...      ...      ...     ...\n",
              "824  2014/02/24    10.411403     3           0  ...      2        0        0       0\n",
              "825  2014/02/25    10.294997     1           0  ...      2        0        0       0\n",
              "826  2014/02/26    10.202945     1           0  ...      2        0        0       0\n",
              "827  2014/02/27    10.356350     1           0  ...      2        0        0       0\n",
              "828  2014/02/28     0.208997     1           0  ...      2        0        0       0\n",
              "\n",
              "[829 rows x 9 columns]"
            ]
          },
          "metadata": {
            "tags": []
          },
          "execution_count": 28
        }
      ]
    },
    {
      "cell_type": "code",
      "metadata": {
        "id": "ZuiU9nQxa-_J"
      },
      "source": [
        "corr=final.corr()"
      ],
      "execution_count": null,
      "outputs": []
    },
    {
      "cell_type": "code",
      "metadata": {
        "colab": {
          "base_uri": "https://localhost:8080/",
          "height": 613
        },
        "id": "n5GNMwctYdTX",
        "outputId": "6ac2f1e9-3c46-49c3-e74c-5a5b7c9e2d74"
      },
      "source": [
        "fig, ax = plt.subplots(figsize=(10,10))         # Sample figsize in inches\n",
        "sns.heatmap(corr, annot=True, linewidths=.5, ax=ax)"
      ],
      "execution_count": null,
      "outputs": [
        {
          "output_type": "execute_result",
          "data": {
            "text/plain": [
              "<matplotlib.axes._subplots.AxesSubplot at 0x7fd679b98dd0>"
            ]
          },
          "metadata": {
            "tags": []
          },
          "execution_count": 27
        },
        {
          "output_type": "display_data",
          "data": {
            "image/png": "[encoded data removed]",
            "text/plain": [
              "<Figure size 720x720 with 2 Axes>"
            ]
          },
          "metadata": {
            "tags": [],
            "needs_background": "light"
          }
        }
      ]
    },
    {
      "cell_type": "code",
      "metadata": {
        "id": "1YeWMeKCarlu"
      },
      "source": [
        ""
      ],
      "execution_count": null,
      "outputs": []
    },
    {
      "cell_type": "code",
      "metadata": {
        "id": "j4tG1bGhsfee"
      },
      "source": [
        "feature=final.drop(['mean energy','icon','holiday'],1)"
      ],
      "execution_count": null,
      "outputs": []
    },
    {
      "cell_type": "code",
      "metadata": {
        "colab": {
          "base_uri": "https://localhost:8080/",
          "height": 419
        },
        "id": "P4i-KRkjtAl-",
        "outputId": "e52486fe-30d2-43c9-c1ee-1f8c2c7eec30"
      },
      "source": [
        "feature"
      ],
      "execution_count": null,
      "outputs": [
        {
          "output_type": "execute_result",
          "data": {
            "text/html": [
              "<div>\n",
              "<style scoped>\n",
              "    .dataframe tbody tr th:only-of-type {\n",
              "        vertical-align: middle;\n",
              "    }\n",
              "\n",
              "    .dataframe tbody tr th {\n",
              "        vertical-align: top;\n",
              "    }\n",
              "\n",
              "    .dataframe thead th {\n",
              "        text-align: right;\n",
              "    }\n",
              "</style>\n",
              "<table border=\"1\" class=\"dataframe\">\n",
              "  <thead>\n",
              "    <tr style=\"text-align: right;\">\n",
              "      <th></th>\n",
              "      <th>date</th>\n",
              "      <th>perciptype</th>\n",
              "      <th>day_name</th>\n",
              "      <th>month</th>\n",
              "      <th>hol+sun</th>\n",
              "      <th>season</th>\n",
              "    </tr>\n",
              "  </thead>\n",
              "  <tbody>\n",
              "    <tr>\n",
              "      <th>0</th>\n",
              "      <td>2011/11/23</td>\n",
              "      <td>0</td>\n",
              "      <td>6</td>\n",
              "      <td>11</td>\n",
              "      <td>0</td>\n",
              "      <td>2</td>\n",
              "    </tr>\n",
              "    <tr>\n",
              "      <th>1</th>\n",
              "      <td>2011/11/24</td>\n",
              "      <td>0</td>\n",
              "      <td>4</td>\n",
              "      <td>11</td>\n",
              "      <td>0</td>\n",
              "      <td>2</td>\n",
              "    </tr>\n",
              "    <tr>\n",
              "      <th>2</th>\n",
              "      <td>2011/11/25</td>\n",
              "      <td>0</td>\n",
              "      <td>0</td>\n",
              "      <td>11</td>\n",
              "      <td>0</td>\n",
              "      <td>2</td>\n",
              "    </tr>\n",
              "    <tr>\n",
              "      <th>3</th>\n",
              "      <td>2011/11/26</td>\n",
              "      <td>0</td>\n",
              "      <td>2</td>\n",
              "      <td>11</td>\n",
              "      <td>0</td>\n",
              "      <td>2</td>\n",
              "    </tr>\n",
              "    <tr>\n",
              "      <th>4</th>\n",
              "      <td>2011/11/27</td>\n",
              "      <td>0</td>\n",
              "      <td>3</td>\n",
              "      <td>11</td>\n",
              "      <td>1</td>\n",
              "      <td>2</td>\n",
              "    </tr>\n",
              "    <tr>\n",
              "      <th>...</th>\n",
              "      <td>...</td>\n",
              "      <td>...</td>\n",
              "      <td>...</td>\n",
              "      <td>...</td>\n",
              "      <td>...</td>\n",
              "      <td>...</td>\n",
              "    </tr>\n",
              "    <tr>\n",
              "      <th>824</th>\n",
              "      <td>2014/02/24</td>\n",
              "      <td>0</td>\n",
              "      <td>1</td>\n",
              "      <td>2</td>\n",
              "      <td>0</td>\n",
              "      <td>0</td>\n",
              "    </tr>\n",
              "    <tr>\n",
              "      <th>825</th>\n",
              "      <td>2014/02/25</td>\n",
              "      <td>0</td>\n",
              "      <td>5</td>\n",
              "      <td>2</td>\n",
              "      <td>0</td>\n",
              "      <td>0</td>\n",
              "    </tr>\n",
              "    <tr>\n",
              "      <th>826</th>\n",
              "      <td>2014/02/26</td>\n",
              "      <td>0</td>\n",
              "      <td>6</td>\n",
              "      <td>2</td>\n",
              "      <td>0</td>\n",
              "      <td>0</td>\n",
              "    </tr>\n",
              "    <tr>\n",
              "      <th>827</th>\n",
              "      <td>2014/02/27</td>\n",
              "      <td>0</td>\n",
              "      <td>4</td>\n",
              "      <td>2</td>\n",
              "      <td>0</td>\n",
              "      <td>0</td>\n",
              "    </tr>\n",
              "    <tr>\n",
              "      <th>828</th>\n",
              "      <td>2014/02/28</td>\n",
              "      <td>0</td>\n",
              "      <td>0</td>\n",
              "      <td>2</td>\n",
              "      <td>0</td>\n",
              "      <td>0</td>\n",
              "    </tr>\n",
              "  </tbody>\n",
              "</table>\n",
              "<p>829 rows × 6 columns</p>\n",
              "</div>"
            ],
            "text/plain": [
              "           date  perciptype  day_name  month  hol+sun  season\n",
              "0    2011/11/23           0         6     11        0       2\n",
              "1    2011/11/24           0         4     11        0       2\n",
              "2    2011/11/25           0         0     11        0       2\n",
              "3    2011/11/26           0         2     11        0       2\n",
              "4    2011/11/27           0         3     11        1       2\n",
              "..          ...         ...       ...    ...      ...     ...\n",
              "824  2014/02/24           0         1      2        0       0\n",
              "825  2014/02/25           0         5      2        0       0\n",
              "826  2014/02/26           0         6      2        0       0\n",
              "827  2014/02/27           0         4      2        0       0\n",
              "828  2014/02/28           0         0      2        0       0\n",
              "\n",
              "[829 rows x 6 columns]"
            ]
          },
          "metadata": {
            "tags": []
          },
          "execution_count": 36
        }
      ]
    },
    {
      "cell_type": "code",
      "metadata": {
        "id": "dM1pHfTrsscz"
      },
      "source": [
        "feature.to_csv( \"/content/drive/MyDrive/feature_selection.csv\", index=False, encoding='utf-8-sig')"
      ],
      "execution_count": null,
      "outputs": []
    },
    {
      "cell_type": "code",
      "metadata": {
        "id": "iDpwowPktOAB"
      },
      "source": [
        ""
      ],
      "execution_count": null,
      "outputs": []
    }
  ]
}